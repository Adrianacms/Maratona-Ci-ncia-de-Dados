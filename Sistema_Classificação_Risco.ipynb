{
  "nbformat": 4,
  "nbformat_minor": 0,
  "metadata": {
    "colab": {
      "name": "Sistema_Classificação_Risco.ipynb",
      "provenance": [],
      "collapsed_sections": [
        "Eny3aIZaku8i",
        "Fsv_E3STqmTg",
        "-O1cmFgSku8j",
        "DM2nuyRTku81",
        "TyrZDLaZku9L",
        "8prDFmADku9W",
        "V4DWJ3hGhqEp",
        "7zs6B8NF5asB",
        "cUQ5JbQk56wl",
        "l8D_ZDsg9vVA"
      ]
    },
    "kernelspec": {
      "display_name": "Python 3",
      "language": "python",
      "name": "python3"
    },
    "language_info": {
      "codemirror_mode": {
        "name": "ipython",
        "version": 3
      },
      "file_extension": ".py",
      "mimetype": "text/x-python",
      "name": "python",
      "nbconvert_exporter": "python",
      "pygments_lexer": "ipython3",
      "version": "3.8.0"
    }
  },
  "cells": [
    {
      "cell_type": "markdown",
      "metadata": {
        "id": "WHSU8NShZedN"
      },
      "source": [
        "![alt text](https://encrypted-tbn0.gstatic.com/images?q=tbn%3AANd9GcTK4gQ9nhwHHaSXMHpeggWg7twwMCgb877smkRmtkmDeDoGF9Z6&usqp=CAU)"
      ]
    },
    {
      "cell_type": "markdown",
      "metadata": {
        "id": "7oiQVQi0AJ6D"
      },
      "source": [
        "# <font color='Blue'>Maratona da Ciência de Dados</font>\n",
        "\n",
        "### <font color='GREY'> Sistema de Classificação de Risco para Concessão de Empréstimo </font>  \n",
        "\n",
        "\n"
      ]
    },
    {
      "cell_type": "markdown",
      "metadata": {
        "id": "uSxTck1dGSxq"
      },
      "source": [
        "![alt text](https://webcomicms.net/sites/default/files/clipart/144257/animated-computer-pictures-144257-637982.gif)\n",
        "![alt text](https://blog.megaconsultas.com.br/wp-content/uploads/2019/06/Recuperar-o-Score-de-Cr%C3%A9dito.gif)\n"
      ]
    },
    {
      "cell_type": "markdown",
      "metadata": {
        "id": "28A1XXO92Lo2"
      },
      "source": [
        "\n",
        "\n",
        "# <font color='Black'> **Aula 1** </font>"
      ]
    },
    {
      "cell_type": "code",
      "metadata": {
        "id": "0pcVW-dzH1Qm"
      },
      "source": [
        ""
      ],
      "execution_count": null,
      "outputs": []
    },
    {
      "cell_type": "markdown",
      "metadata": {
        "id": "Eny3aIZaku8i"
      },
      "source": [
        "#1° Problema de Negócio "
      ]
    },
    {
      "cell_type": "markdown",
      "metadata": {
        "id": "7K8qMC313GIW"
      },
      "source": [
        "Nesse caso prático, nós precisamos construir um Sistema de classificação de Risco do cliente para aprovação de empréstimos.\n"
      ]
    },
    {
      "cell_type": "markdown",
      "metadata": {
        "id": "PzAHN0JzCKYd"
      },
      "source": [
        "![alt text](https://www.goias.gov.br/images/uploads/2017/04/Risco-de-Cr%C3%A9dito-finan%C3%A7as-contas.png)"
      ]
    },
    {
      "cell_type": "markdown",
      "metadata": {
        "id": "Fsv_E3STqmTg"
      },
      "source": [
        "##### **Fonte dos Dados**"
      ]
    },
    {
      "cell_type": "markdown",
      "metadata": {
        "id": "GFLspIFTEeJN"
      },
      "source": [
        "Usaremos a base de dados \"**risco.csv**\" originada por meio dos dados da **UCI Machine Learning**.\n",
        "\n",
        " Nesse portal a gente consegue realizar o download de vários datasets reais de empresas de todo o Mundo.\n",
        "\n",
        "**Link**:\n",
        "\n",
        "https://archive.ics.uci.edu/ml/index.php"
      ]
    },
    {
      "cell_type": "markdown",
      "metadata": {
        "id": "C4PaRjZAqwmx"
      },
      "source": [
        "###### **Arquitetura dos Dados** (AD)\n",
        "\n",
        "* **id_cliente**  : Número de identificação única do cliente\n",
        "* **inad**        : Índice de inadimplência do cliente\n",
        "* **Saldo_contas**: Índice referente aos saldos das contas corrente, poupança e aplicações do cliente\n",
        "* **Class_Renda** : Índice referente à classificação do cliente de acordo com sua renda.\n",
        "* **Anotações**   : Índice referente às anotações externas à empresa, tais como anotações SERASA / SPC / BACEN \n",
        "* **Risco**       : Risco do Cliente atribuído dadas as variáveis de análise do cliente"
      ]
    },
    {
      "cell_type": "markdown",
      "metadata": {
        "id": "-O1cmFgSku8j"
      },
      "source": [
        "# 2° Análise Exploratória dos Dados\n"
      ]
    },
    {
      "cell_type": "code",
      "metadata": {
        "id": "6BZ-jLOunczC"
      },
      "source": [
        "# Importando Bibliotecas Essenciais\n",
        "import pandas as pd\n",
        "import numpy as np\n",
        "import matplotlib.pyplot as plt\n",
        "import seaborn as sns\n",
        "from sklearn.model_selection import train_test_split\n",
        "from sklearn.neighbors import KNeighborsClassifier\n",
        "from sklearn import metrics\n",
        "%matplotlib inline"
      ],
      "execution_count": 59,
      "outputs": []
    },
    {
      "cell_type": "code",
      "metadata": {
        "id": "WKtERLr9n09B"
      },
      "source": [
        "# Se conectando com os dados - Nesse caso, a Fonte de Dados é um Arquivo\n",
        "dataset = pd.read_csv('/content/risco.csv')"
      ],
      "execution_count": null,
      "outputs": []
    },
    {
      "cell_type": "code",
      "metadata": {
        "id": "lB0QoX8n3BEs"
      },
      "source": [
        "# Imprime na Tela os primeiros registros\n",
        "dataset.head()"
      ],
      "execution_count": null,
      "outputs": []
    },
    {
      "cell_type": "code",
      "metadata": {
        "id": "FSLSYaIfHxo8"
      },
      "source": [
        "# Informações do Dataset - Tipo das Variáveis, Quantidade de linhas (registros) e colunas (variáveis/features)\n",
        "dataset.info()"
      ],
      "execution_count": null,
      "outputs": []
    },
    {
      "cell_type": "code",
      "metadata": {
        "id": "DA8sCmcbcrhN"
      },
      "source": [
        "#Verifica as dimensões do dataset (antes de vírgula são linhas    ,     depois da vírgula são colunas)\n",
        "dataset.shape"
      ],
      "execution_count": null,
      "outputs": []
    },
    {
      "cell_type": "code",
      "metadata": {
        "id": "tSKaKAxHku8s",
        "outputId": "245d044d-9f0d-41fd-f0c3-ed471ac8f2e5",
        "colab": {
          "base_uri": "https://localhost:8080/"
        }
      },
      "source": [
        "# Cria uma função para imprimir na tela o resultado da função SHAPE\n",
        "print(f\"Dataset tem {dataset.shape[0]} linhas e {dataset.shape[1]} colunas.\")"
      ],
      "execution_count": 55,
      "outputs": [
        {
          "output_type": "stream",
          "text": [
            "Dataset tem 150 linhas e 5 colunas.\n"
          ],
          "name": "stdout"
        }
      ]
    },
    {
      "cell_type": "code",
      "metadata": {
        "id": "2G8LjcZ4b_po"
      },
      "source": [
        "#Estatísticas descritivas das variáveis numéricas\n",
        "dataset.describe()"
      ],
      "execution_count": null,
      "outputs": []
    },
    {
      "cell_type": "code",
      "metadata": {
        "id": "Xao3kHmycFGK"
      },
      "source": [
        "# Tabela de Frequência da Variável \"risco\" - Nossa Classe ou Label ou Target\n",
        "dataset['Risco'].value_counts()\n"
      ],
      "execution_count": null,
      "outputs": []
    },
    {
      "cell_type": "code",
      "metadata": {
        "id": "lfcQBXx2zDNj"
      },
      "source": [
        "# Forma adicional de criar a Tab. de Frequência\n",
        "dataset.Risco.value_counts()"
      ],
      "execution_count": null,
      "outputs": []
    },
    {
      "cell_type": "code",
      "metadata": {
        "id": "1fncTNJ136vB"
      },
      "source": [
        "# Cria um gráfico de barras da variável Target\n",
        "sns.countplot(dataset['Risco'])"
      ],
      "execution_count": null,
      "outputs": []
    },
    {
      "cell_type": "code",
      "metadata": {
        "id": "Pr-7J--Db_14"
      },
      "source": [
        "# Check for missing values\n",
        "dataset.isna().sum()"
      ],
      "execution_count": null,
      "outputs": []
    },
    {
      "cell_type": "code",
      "metadata": {
        "id": "uduJWrPw-0YB"
      },
      "source": [
        "#Eliminar a coluna de identificação, pois ela não é variável explicativa, é somente a identificação do cliente7\n",
        "dataset = dataset.drop(columns='id_cliente')"
      ],
      "execution_count": 9,
      "outputs": []
    },
    {
      "cell_type": "code",
      "metadata": {
        "id": "i2w2ikIl_IGf"
      },
      "source": [
        "#Printa o dataset na tela\n",
        "dataset"
      ],
      "execution_count": null,
      "outputs": []
    },
    {
      "cell_type": "code",
      "metadata": {
        "id": "DfFSzpSMAoFU"
      },
      "source": [
        "# Cria um gráfico tipo box and whisker plots (o famoso boxplot)\n",
        "from matplotlib import pyplot\n",
        "dataset.plot(kind='box', subplots=True, layout=(2,2), sharex=False, sharey=False)\n",
        "pyplot.show()"
      ],
      "execution_count": null,
      "outputs": []
    },
    {
      "cell_type": "code",
      "metadata": {
        "id": "89wQbfgzBqQS",
        "outputId": "a4dbcbef-e132-4877-89a5-19cb26d140b6",
        "colab": {
          "base_uri": "https://localhost:8080/",
          "height": 281
        }
      },
      "source": [
        "#cria um gráfico conhecido como histohrama\n",
        "dataset.hist()\n",
        "plt.show()\n"
      ],
      "execution_count": 63,
      "outputs": [
        {
          "output_type": "display_data",
          "data": {
            "image/png": "[encoded data removed]",
            "text/plain": [
              "<Figure size 432x288 with 4 Axes>"
            ]
          },
          "metadata": {
            "tags": [],
            "needs_background": "light"
          }
        }
      ]
    },
    {
      "cell_type": "code",
      "metadata": {
        "id": "p_dvoe928qrU"
      },
      "source": [
        "# Criação do Gráfico de dispersão (scatter) conhecido como pairplot\n",
        "sns.pairplot(dataset, hue='Risco', kind=\"reg\") # kind=reg é a reta de regressão"
      ],
      "execution_count": null,
      "outputs": []
    },
    {
      "cell_type": "code",
      "metadata": {
        "id": "Y00FGE3h_bnG"
      },
      "source": [
        "# Criação do Gráfico de dispersão sem agregar pelo TARGET\n",
        "sns.pairplot(dataset,kind=\"reg\")"
      ],
      "execution_count": null,
      "outputs": []
    },
    {
      "cell_type": "markdown",
      "metadata": {
        "id": "DM2nuyRTku81"
      },
      "source": [
        "# 3° Pré-Processamento dos Dados"
      ]
    },
    {
      "cell_type": "code",
      "metadata": {
        "id": "G5WuUWRFn4j8"
      },
      "source": [
        "#3 Separando as Variáveis de Entrada e Saída do Modelo\n",
        "X = dataset.iloc[:,:-1].values  #variáveis independentes\n",
        "y = dataset.iloc[:,-1].values  #Target/labe/class/vairável dependente"
      ],
      "execution_count": 14,
      "outputs": []
    },
    {
      "cell_type": "code",
      "metadata": {
        "id": "-bZ82kVbn7Ga"
      },
      "source": [
        "#Print das variáveis X e Y\n",
        "print(\"\\nVariáveis de Entrada da avaliação:\\n\\n\", X[:3])\n",
        "print(\"\\nRisco - Variável a ser Predita :\\n\\n\", y[:3])"
      ],
      "execution_count": null,
      "outputs": []
    },
    {
      "cell_type": "code",
      "metadata": {
        "id": "TnFgcVnO4R4A"
      },
      "source": [
        "X"
      ],
      "execution_count": null,
      "outputs": []
    },
    {
      "cell_type": "code",
      "metadata": {
        "id": "ALfXSeZ1KJ4b"
      },
      "source": [
        "y"
      ],
      "execution_count": null,
      "outputs": []
    },
    {
      "cell_type": "markdown",
      "metadata": {
        "id": "TyrZDLaZku9L"
      },
      "source": [
        "### Separando os dados entre Treino e Teste"
      ]
    },
    {
      "cell_type": "code",
      "metadata": {
        "id": "Q95yEPVNku9O"
      },
      "source": [
        "#Divide o dataset em Train and Test \n",
        "X_train, X_test, y_train, y_test = train_test_split(X ,y, test_size=0.2, random_state = 7) "
      ],
      "execution_count": 20,
      "outputs": []
    },
    {
      "cell_type": "code",
      "metadata": {
        "id": "YcY06YGDn_dz"
      },
      "source": [
        "print(\"Dados de Treino :\\n----------------\\n\")\n",
        "print(\"X = \\n\", X_train[:2])\n",
        "print(\"y = \\n\", y_train[:2])\n",
        "\n",
        "print(\"\\n\\nDados de Teste :\\n----------------\\n\")\n",
        "print(\"X = \\n\",X_test[:2])\n",
        "print(\"y = \\n\", y_test[:2])"
      ],
      "execution_count": null,
      "outputs": []
    },
    {
      "cell_type": "code",
      "metadata": {
        "id": "TYVfb2fJku9U",
        "outputId": "eeeb3266-2ac0-46ad-824c-76455483a515",
        "colab": {
          "base_uri": "https://localhost:8080/"
        }
      },
      "source": [
        "print(f\"Shape dos dados de treino é {X_train.shape}\")\n",
        "print(f\"Shape dos dados de teste é {X_test.shape}\")"
      ],
      "execution_count": 22,
      "outputs": [
        {
          "output_type": "stream",
          "text": [
            "Shape dos dados de treino é (120, 4)\n",
            "Shape dos dados de teste é (30, 4)\n"
          ],
          "name": "stdout"
        }
      ]
    },
    {
      "cell_type": "markdown",
      "metadata": {
        "id": "8prDFmADku9W"
      },
      "source": [
        "### Padronizando as Features - As variáveis explicativas (variáveis de entrada)\n"
      ]
    },
    {
      "cell_type": "code",
      "metadata": {
        "id": "HVa6cZd8ku9W"
      },
      "source": [
        "#Redimensionando os dados - PADRONIZAÇÂO - Feature scaling\n",
        "from sklearn.preprocessing import StandardScaler\n",
        "sc = StandardScaler()\n",
        "\n",
        "X_train = sc.fit_transform(X_train)\n",
        "X_test = sc.transform(X_test) \n",
        "\n",
        "print(\"\\n--------------------------------\\nDataset depois da padronização:\\n--------------------------------\\n\", )\n",
        "\n",
        "print(\"\\nX_train :\\n\", X_train[:5])\n",
        "print(\"-------------------------\")\n",
        "print(\"\\nX_test :\\n\", X_test[:5])"
      ],
      "execution_count": null,
      "outputs": []
    },
    {
      "cell_type": "markdown",
      "metadata": {
        "id": "XcDuCbTG2PSi"
      },
      "source": [
        "# <font color='Black'> **Aula 2** </font>"
      ]
    },
    {
      "cell_type": "markdown",
      "metadata": {
        "id": "Y3rduQxEku9Y"
      },
      "source": [
        "# 4° Construindo a Máquina Preditiva"
      ]
    },
    {
      "cell_type": "markdown",
      "metadata": {
        "id": "V4DWJ3hGhqEp"
      },
      "source": [
        "### 1° Versão da Máquina Preditiva: Criando um **baseline**\n",
        "\n",
        "Aqui nós vamos criar a primeira versão da Máquina Preditiva. Depois, vamos buscar formas de melhorar a assertividade do modelo. "
      ]
    },
    {
      "cell_type": "code",
      "metadata": {
        "id": "8XbYFyk8oCrH",
        "outputId": "5f05c865-adf3-4482-8f15-c6f4e7945194",
        "colab": {
          "base_uri": "https://localhost:8080/"
        }
      },
      "source": [
        "# Importando a Biblioteca KNN\n",
        "from sklearn.neighbors import KNeighborsClassifier\n",
        "Maquina_Preditiva = KNeighborsClassifier(n_neighbors=30) #[1,10,30,50]\n",
        "\n",
        "#Treinando a Máquina preditiva com os dados de treino\n",
        "Maquina_Preditiva = Maquina_Preditiva.fit(X_train,y_train)\n",
        "\n",
        "#Fazendo novas Previsões com os dados de teste\n",
        "y_pred = Maquina_Preditiva.predict(X_test)\n",
        "\n",
        "\n",
        "print(\"\\n---------------------------\\n\")\n",
        "print(\"Valores Reais com dados de teste :\\n\",y_test)\n",
        "\n",
        "print(\"\\n---------------------------\\n\")\n",
        "print(\"Valores Preditos com a Máquina Preditiva com dados de Teste :\\n\",y_pred)"
      ],
      "execution_count": 29,
      "outputs": [
        {
          "output_type": "stream",
          "text": [
            "\n",
            "---------------------------\n",
            "\n",
            "Valores Reais com dados de teste :\n",
            " ['Risco_Baixo' 'Risco_Medio' 'Risco_Alto' 'Risco_Medio' 'Risco_Baixo'\n",
            " 'Risco_Alto' 'Risco_Medio' 'Risco_Medio' 'Risco_Alto' 'Risco_Medio'\n",
            " 'Risco_Medio' 'Risco_Medio' 'Risco_Alto' 'Risco_Baixo' 'Risco_Alto'\n",
            " 'Risco_Medio' 'Risco_Baixo' 'Risco_Baixo' 'Risco_Alto' 'Risco_Alto'\n",
            " 'Risco_Medio' 'Risco_Baixo' 'Risco_Medio' 'Risco_Baixo' 'Risco_Baixo'\n",
            " 'Risco_Baixo' 'Risco_Medio' 'Risco_Medio' 'Risco_Baixo' 'Risco_Baixo']\n",
            "\n",
            "---------------------------\n",
            "\n",
            "Valores Preditos com a Máquina Preditiva com dados de Teste :\n",
            " ['Risco_Baixo' 'Risco_Medio' 'Risco_Alto' 'Risco_Medio' 'Risco_Medio'\n",
            " 'Risco_Alto' 'Risco_Baixo' 'Risco_Medio' 'Risco_Alto' 'Risco_Medio'\n",
            " 'Risco_Baixo' 'Risco_Medio' 'Risco_Alto' 'Risco_Baixo' 'Risco_Alto'\n",
            " 'Risco_Baixo' 'Risco_Baixo' 'Risco_Baixo' 'Risco_Alto' 'Risco_Alto'\n",
            " 'Risco_Medio' 'Risco_Baixo' 'Risco_Medio' 'Risco_Medio' 'Risco_Baixo'\n",
            " 'Risco_Medio' 'Risco_Medio' 'Risco_Medio' 'Risco_Baixo' 'Risco_Baixo']\n"
          ],
          "name": "stdout"
        }
      ]
    },
    {
      "cell_type": "code",
      "metadata": {
        "id": "rPjCYxIm4yib",
        "outputId": "c7322f76-773b-41ed-c031-200d0ced05ac",
        "colab": {
          "base_uri": "https://localhost:8080/"
        }
      },
      "source": [
        "#Função que mostra os hyperparâmetros utilizados na construção da Máquina Preditiva \n",
        "Maquina_Preditiva.get_params"
      ],
      "execution_count": 30,
      "outputs": [
        {
          "output_type": "execute_result",
          "data": {
            "text/plain": [
              "<bound method BaseEstimator.get_params of KNeighborsClassifier(algorithm='auto', leaf_size=30, metric='minkowski',\n",
              "                     metric_params=None, n_jobs=None, n_neighbors=30, p=2,\n",
              "                     weights='uniform')>"
            ]
          },
          "metadata": {
            "tags": []
          },
          "execution_count": 30
        }
      ]
    },
    {
      "cell_type": "markdown",
      "metadata": {
        "id": "7zs6B8NF5asB"
      },
      "source": [
        "#5° Avaliando a Máquina Preditiva"
      ]
    },
    {
      "cell_type": "code",
      "metadata": {
        "id": "ZAwiJVWuoHEX"
      },
      "source": [
        "# Calculando a Acurácia\n",
        "from sklearn import metrics\n",
        "print(\"Acurácia da Máquina = \", metrics.accuracy_score(y_test, y_pred)*100)"
      ],
      "execution_count": null,
      "outputs": []
    },
    {
      "cell_type": "code",
      "metadata": {
        "id": "dIlExZQVjiTL"
      },
      "source": [
        "# Comparando Real e Predito com dados de Teste\n",
        "print(\"\\nReal vs Predito \\n------------------------------\\n\")\n",
        "error_df = pd.DataFrame({\"Real\" : y_test,\n",
        "                         \"Predito\" : y_pred})\n",
        "\n",
        "error_df.head(5)"
      ],
      "execution_count": null,
      "outputs": []
    },
    {
      "cell_type": "code",
      "metadata": {
        "id": "LVbeqzMaku9f"
      },
      "source": [
        "#Usando a confusion matrix  e o classification report para avaliar a acurácia e demais indicadores\n",
        "from sklearn.metrics import confusion_matrix, classification_report\n",
        "from sklearn import metrics\n",
        "\n",
        "print(\"Acurácia da Máquina = \", metrics.accuracy_score(y_test, y_pred)*100)\n",
        "cm = confusion_matrix(y_test,y_pred)\n",
        "cr = classification_report(y_test, y_pred)\n",
        "print(cm)\n",
        "print(cr)"
      ],
      "execution_count": null,
      "outputs": []
    },
    {
      "cell_type": "markdown",
      "metadata": {
        "id": "cUQ5JbQk56wl"
      },
      "source": [
        "### 2° Versão da Máquina Preditiva: Máquina Definitiva "
      ]
    },
    {
      "cell_type": "code",
      "metadata": {
        "id": "z9JPD4YM59KP"
      },
      "source": [
        "# Importando a Biblioteca do SVM\n",
        "from sklearn.svm import SVC\n",
        "classifier = SVC(kernel='linear',             # ['linear', 'rbf']\n",
        "                 gamma= 1e-5  ,               # [1e-1, 1e-2, 1e-3, 1e-5]\n",
        "                 C=10,                        # [10.0, 100.0, 1000.0, 10000.0]\n",
        "                 random_state=0)\n",
        "\n",
        "#Treinando a Máquina com o SVC\n",
        "classifier.fit(X_train,y_train)\n",
        "\n",
        "#Fazendo novas previsões com os dados de teste\n",
        "y_pred = classifier.predict(X_test)\n",
        "\n",
        "print(\"\\n---------------------------\\n\")\n",
        "print(\"Predicted Values for Test Set :\\n\",y_pred)\n",
        "print(\"\\n---------------------------\\n\")\n",
        "print(\"Actual Values for Test Set :\\n\",y_test)\n"
      ],
      "execution_count": null,
      "outputs": []
    },
    {
      "cell_type": "code",
      "metadata": {
        "id": "i55vwLwQQh2f",
        "outputId": "52de3dea-3acd-44cf-c90b-3fe8d5252d0b",
        "colab": {
          "base_uri": "https://localhost:8080/"
        }
      },
      "source": [
        "#Imprimindo os hyperparâmetros utilizados na criação da Maquina Preditiva Definitiva\n",
        "classifier"
      ],
      "execution_count": 43,
      "outputs": [
        {
          "output_type": "execute_result",
          "data": {
            "text/plain": [
              "SVC(C=10, break_ties=False, cache_size=200, class_weight=None, coef0=0.0,\n",
              "    decision_function_shape='ovr', degree=3, gamma=1e-05, kernel='linear',\n",
              "    max_iter=-1, probability=False, random_state=0, shrinking=True, tol=0.001,\n",
              "    verbose=False)"
            ]
          },
          "metadata": {
            "tags": []
          },
          "execution_count": 43
        }
      ]
    },
    {
      "cell_type": "code",
      "metadata": {
        "id": "ibAFbOsE59KT"
      },
      "source": [
        "# Calculando a Acurácia da Máquina Preditiva\n",
        "from sklearn import metrics\n",
        "print(\"Prediction Accuracy = \", metrics.accuracy_score(y_test, y_pred))\n",
        "\n",
        "# Comparando valores Reais com Preditos pela Máquina\n",
        "print(\"\\nActual vs Predicted Salaries \\n------------------------------\\n\")\n",
        "error_df = pd.DataFrame({\"Actual\" : y_test,\n",
        "                         \"Predicted\" : y_pred})\n",
        "\n",
        "error_df.head(5)"
      ],
      "execution_count": null,
      "outputs": []
    },
    {
      "cell_type": "code",
      "metadata": {
        "id": "MnVF8dG7qvlq"
      },
      "source": [
        "\n",
        "#Usando a confusion matrix e o classification report para avaliar a Máquina\n",
        "from sklearn.metrics import confusion_matrix, classification_report\n",
        "cm = confusion_matrix(y_test,y_pred)\n",
        "\n",
        "\n",
        "print(\"\\n---------------------------\\n\")\n",
        "print(classification_report(y_test, y_pred))\n",
        "\n",
        "\n",
        "print(\"\\n---------------------------\\n\")\n",
        "print(\"Accuracy of Predictions = \",accuracy)"
      ],
      "execution_count": null,
      "outputs": []
    },
    {
      "cell_type": "code",
      "metadata": {
        "id": "e3b7ZZOb6KkW"
      },
      "source": [
        "# Imprimindo a Confusion Matrix\n",
        "print(cm)"
      ],
      "execution_count": null,
      "outputs": []
    },
    {
      "cell_type": "markdown",
      "metadata": {
        "id": "PpHbZsBZ2aDB"
      },
      "source": [
        "# <font color='Black'> **Aula 3** </font>"
      ]
    },
    {
      "cell_type": "markdown",
      "metadata": {
        "id": "LI4TUsUJ0u66"
      },
      "source": [
        "# <font color='Blue'>6° Deploy - Implementando a Maquina Preditiva na WEB</font>\n"
      ]
    },
    {
      "cell_type": "markdown",
      "metadata": {
        "id": "l8D_ZDsg9vVA"
      },
      "source": [
        "### **Passo a Passo** Implementação do Sistema de Classificação de Risco do Cliente:"
      ]
    },
    {
      "cell_type": "markdown",
      "metadata": {
        "id": "krpsXQ4v99Nt"
      },
      "source": [
        "**1°** Realizar o download da ferramenta \"Visual Studio Code\" no link abaixo:\n",
        "\n",
        "https://code.visualstudio.com/"
      ]
    },
    {
      "cell_type": "markdown",
      "metadata": {
        "id": "bzM_pbgf-ROm"
      },
      "source": [
        "**2°** Instalar a ferramenta: Clicar em \"next\" e \"finish\" (simples assim...)"
      ]
    },
    {
      "cell_type": "markdown",
      "metadata": {
        "id": "UtiXb1Yz-bkD"
      },
      "source": [
        "**3°** Criar um diretório \"app\" no seu Drive \"C\"\n",
        "\n",
        "Ex: **C:\\app**"
      ]
    },
    {
      "cell_type": "markdown",
      "metadata": {
        "id": "5ARouQgp-9Ph"
      },
      "source": [
        "**4°** Fazer o Download da pasta \"maratona\" disponibilizada na página da maratona e via Canal no Telegram."
      ]
    },
    {
      "cell_type": "markdown",
      "metadata": {
        "id": "4wAWIcsW_Lej"
      },
      "source": [
        "**5°** Salvar essa pasta dentro do diretório app. \n",
        "\n",
        "Ex: **C:\\app\\maratona** \n",
        "\n",
        "\n",
        "\n",
        "**Obs:** dentro da pasta maratona temos 3 arquivos:\n",
        "\n",
        "1° risco.csv                           - Nossa fonte de dados\n",
        "\n",
        "2° app_risco.py                        - Nosso Aplicativo web\n",
        "\n",
        "3° Sistema_Classificação_Risco.ipynb   - Nosso Script de Criação da Máquina Preditiva"
      ]
    },
    {
      "cell_type": "markdown",
      "metadata": {
        "id": "KDvZd3apAP3y"
      },
      "source": [
        "**6°** Abrir o VS Code e clicar no menu \"File\", depois \"Open Folder\" e vai navegar até o diretório **\"C:\\app\\maratona\"**"
      ]
    },
    {
      "cell_type": "markdown",
      "metadata": {
        "id": "b-__AxU9AqHc"
      },
      "source": [
        "**7°** Vai no menu \"terminal\", depois \"New Terminal\". Perceba que vai abrir, lá embaixo, um terminal de comando, tipo o \"CMD\" (tela preta) do windows."
      ]
    },
    {
      "cell_type": "markdown",
      "metadata": {
        "id": "zT8U4OWWBJ7I"
      },
      "source": [
        "**8°** executar os seguinte comandos:\n",
        "\n",
        "a) pip install plotly     +  tecla enter\n",
        "\n",
        "b) pip install streamlit  +  tecla enter\n"
      ]
    },
    {
      "cell_type": "markdown",
      "metadata": {
        "id": "6YRxtNSgBteM"
      },
      "source": [
        "**9°** Executar o comando de abertura do nosso LINDO sistema:\n",
        "\n",
        "   streamlit run app_risco.py\n",
        "\n",
        "obs: Nosso sistema vai abrir na WEB. Ver no seu navegador web."
      ]
    },
    {
      "cell_type": "markdown",
      "metadata": {
        "id": "XTRc7NjBKG65"
      },
      "source": [
        "# Fim"
      ]
    },
    {
      "cell_type": "markdown",
      "metadata": {
        "id": "_fHqFSvWe94c"
      },
      "source": [
        "## Valeu!"
      ]
    },
    {
      "cell_type": "markdown",
      "metadata": {
        "id": "2r1o8LDDzj16"
      },
      "source": [
        "### #Links - Ciência dos Dados <a href=\"https://linktr.ee/cienciadosdados\">https://linktr.ee/cienciadosdados</a>"
      ]
    },
    {
      "cell_type": "markdown",
      "metadata": {
        "id": "jqsLo_Bd1l1G"
      },
      "source": [
        "![alt text](https://miro.medium.com/max/625/1*XBWI6eNVLS_70s1qS46E1w.gif)"
      ]
    }
  ]
}